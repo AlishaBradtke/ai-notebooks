{
 "cells": [
  {
   "cell_type": "code",
   "execution_count": 1,
   "id": "0eac0be7-5bf7-4675-bded-a61500045885",
   "metadata": {},
   "outputs": [
    {
     "name": "stdout",
     "output_type": "stream",
     "text": [
      "[cuda(id=0), cuda(id=1), cuda(id=2), cuda(id=3), cuda(id=4), cuda(id=5), cuda(id=6), cuda(id=7)]\n"
     ]
    },
    {
     "data": {
      "text/plain": [
       "((8, 32, 4096, 4096), (8, 1, 4096, 4096))"
      ]
     },
     "execution_count": 1,
     "metadata": {},
     "output_type": "execute_result"
    }
   ],
   "source": [
    "# a matmul in jax using pmap across 8 GPUs\n",
    "import jax.numpy as jnp\n",
    "import jax\n",
    "import time\n",
    "import numpy as np\n",
    "\n",
    "from jax.sharding import PositionalSharding\n",
    "sharding = PositionalSharding(jax.devices())\n",
    "DEVICES = 8\n",
    "BS = 32\n",
    "N = 4096\n",
    "d = np.float16\n",
    "nA = np.zeros((DEVICES, BS, N, N), d)\n",
    "nB = np.zeros((DEVICES, 1, N, N), d)\n",
    "print(jax.devices())\n",
    "A = jax.device_put_sharded([nA[i] for i in range(DEVICES)], jax.devices())\n",
    "B = jax.device_put_sharded([nB[i] for i in range(DEVICES)], jax.devices())\n",
    "A.shape, B.shape"
   ]
  },
  {
   "cell_type": "code",
   "execution_count": 2,
   "id": "6dba8125-eb85-4c51-86a4-509edba8d669",
   "metadata": {},
   "outputs": [
    {
     "name": "stdout",
     "output_type": "stream",
     "text": [
      "TOPS 35.184372088832\n"
     ]
    }
   ],
   "source": [
    "OPS = DEVICES*BS*N*N*N*2\n",
    "print(f\"TOPS {OPS*1e-12}\")\n",
    "def matmul(A,B): return jnp.matmul(A,B,preferred_element_type=jnp.float16)\n",
    "lowered = jax.pmap(matmul)"
   ]
  },
  {
   "cell_type": "code",
   "execution_count": 3,
   "id": "06f32db0-1d84-4f0e-a128-31e7bf982538",
   "metadata": {},
   "outputs": [
    {
     "name": "stdout",
     "output_type": "stream",
     "text": [
      "time 4511.29 ms, TFLOPS   7.80, MFU 0.69% out shape (8, 32, 4096, 4096) dtype float16\n",
      "time 33.10 ms, TFLOPS 1062.90, MFU 93.57% out shape (8, 32, 4096, 4096) dtype float16\n",
      "time 32.89 ms, TFLOPS 1069.81, MFU 94.17% out shape (8, 32, 4096, 4096) dtype float16\n",
      "time 32.81 ms, TFLOPS 1072.43, MFU 94.40% out shape (8, 32, 4096, 4096) dtype float16\n",
      "time 32.95 ms, TFLOPS 1067.93, MFU 94.01% out shape (8, 32, 4096, 4096) dtype float16\n",
      "time 32.89 ms, TFLOPS 1069.82, MFU 94.17% out shape (8, 32, 4096, 4096) dtype float16\n",
      "time 32.84 ms, TFLOPS 1071.48, MFU 94.32% out shape (8, 32, 4096, 4096) dtype float16\n",
      "time 32.76 ms, TFLOPS 1073.86, MFU 94.53% out shape (8, 32, 4096, 4096) dtype float16\n",
      "time 32.72 ms, TFLOPS 1075.39, MFU 94.66% out shape (8, 32, 4096, 4096) dtype float16\n",
      "time 32.93 ms, TFLOPS 1068.51, MFU 94.06% out shape (8, 32, 4096, 4096) dtype float16\n"
     ]
    }
   ],
   "source": [
    "MAX_TFLOPS = 142*DEVICES  # Peak FP16 Tensor TFLOPS with FP16 Acc\n",
    "for i in range(10):\n",
    "    st = time.perf_counter()\n",
    "    C = lowered(A,B).block_until_ready()\n",
    "    et = time.perf_counter()-st\n",
    "    tflops = (OPS*1e-12)/et\n",
    "    print(f\"time {et*1e3:.2f} ms, TFLOPS {tflops:6.2f}, MFU {(tflops/MAX_TFLOPS)*100:4.2f}% out shape {C.shape} dtype {C.dtype}\")"
   ]
  },
  {
   "cell_type": "code",
   "execution_count": null,
   "id": "3ea6ba4b-c29a-40a6-892f-452f00c7df4f",
   "metadata": {},
   "outputs": [],
   "source": []
  }
 ],
 "metadata": {
  "kernelspec": {
   "display_name": "Python 3 (ipykernel)",
   "language": "python",
   "name": "python3"
  },
  "language_info": {
   "codemirror_mode": {
    "name": "ipython",
    "version": 3
   },
   "file_extension": ".py",
   "mimetype": "text/x-python",
   "name": "python",
   "nbconvert_exporter": "python",
   "pygments_lexer": "ipython3",
   "version": "3.11.4"
  }
 },
 "nbformat": 4,
 "nbformat_minor": 5
}
